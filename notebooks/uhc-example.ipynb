{
 "cells": [
  {
   "cell_type": "markdown",
   "metadata": {},
   "source": [
    "#### Read in data"
   ]
  },
  {
   "cell_type": "code",
   "execution_count": 1,
   "metadata": {},
   "outputs": [
    {
     "data": {
      "text/html": [
       "<div>\n",
       "<style scoped>\n",
       "    .dataframe tbody tr th:only-of-type {\n",
       "        vertical-align: middle;\n",
       "    }\n",
       "\n",
       "    .dataframe tbody tr th {\n",
       "        vertical-align: top;\n",
       "    }\n",
       "\n",
       "    .dataframe thead th {\n",
       "        text-align: right;\n",
       "    }\n",
       "</style>\n",
       "<table border=\"1\" class=\"dataframe\">\n",
       "  <thead>\n",
       "    <tr style=\"text-align: right;\">\n",
       "      <th></th>\n",
       "      <th>location_id</th>\n",
       "      <th>year_id</th>\n",
       "      <th>physicians</th>\n",
       "      <th>nurses</th>\n",
       "      <th>uhc</th>\n",
       "      <th>uhc_variance</th>\n",
       "      <th>obs_se</th>\n",
       "      <th>group</th>\n",
       "    </tr>\n",
       "  </thead>\n",
       "  <tbody>\n",
       "    <tr>\n",
       "      <td>0</td>\n",
       "      <td>6</td>\n",
       "      <td>1990</td>\n",
       "      <td>8.498420</td>\n",
       "      <td>7.458451</td>\n",
       "      <td>0.533304</td>\n",
       "      <td>0.000051</td>\n",
       "      <td>0.05</td>\n",
       "      <td>0</td>\n",
       "    </tr>\n",
       "    <tr>\n",
       "      <td>1</td>\n",
       "      <td>6</td>\n",
       "      <td>1991</td>\n",
       "      <td>9.184645</td>\n",
       "      <td>7.949018</td>\n",
       "      <td>0.537839</td>\n",
       "      <td>0.000051</td>\n",
       "      <td>0.05</td>\n",
       "      <td>1</td>\n",
       "    </tr>\n",
       "    <tr>\n",
       "      <td>2</td>\n",
       "      <td>6</td>\n",
       "      <td>1992</td>\n",
       "      <td>9.858267</td>\n",
       "      <td>8.474302</td>\n",
       "      <td>0.542701</td>\n",
       "      <td>0.000051</td>\n",
       "      <td>0.05</td>\n",
       "      <td>2</td>\n",
       "    </tr>\n",
       "    <tr>\n",
       "      <td>3</td>\n",
       "      <td>6</td>\n",
       "      <td>1993</td>\n",
       "      <td>10.543810</td>\n",
       "      <td>9.034594</td>\n",
       "      <td>0.550867</td>\n",
       "      <td>0.000050</td>\n",
       "      <td>0.05</td>\n",
       "      <td>3</td>\n",
       "    </tr>\n",
       "    <tr>\n",
       "      <td>4</td>\n",
       "      <td>6</td>\n",
       "      <td>1994</td>\n",
       "      <td>11.254521</td>\n",
       "      <td>9.627584</td>\n",
       "      <td>0.560277</td>\n",
       "      <td>0.000047</td>\n",
       "      <td>0.05</td>\n",
       "      <td>4</td>\n",
       "    </tr>\n",
       "  </tbody>\n",
       "</table>\n",
       "</div>"
      ],
      "text/plain": [
       "   location_id  year_id  physicians    nurses       uhc  uhc_variance  obs_se  \\\n",
       "0            6     1990    8.498420  7.458451  0.533304      0.000051    0.05   \n",
       "1            6     1991    9.184645  7.949018  0.537839      0.000051    0.05   \n",
       "2            6     1992    9.858267  8.474302  0.542701      0.000051    0.05   \n",
       "3            6     1993   10.543810  9.034594  0.550867      0.000050    0.05   \n",
       "4            6     1994   11.254521  9.627584  0.560277      0.000047    0.05   \n",
       "\n",
       "   group  \n",
       "0      0  \n",
       "1      1  \n",
       "2      2  \n",
       "3      3  \n",
       "4      4  "
      ]
     },
     "execution_count": 1,
     "metadata": {},
     "output_type": "execute_result"
    }
   ],
   "source": [
    "import numpy as np\n",
    "import pandas as pd\n",
    "df = pd.read_csv('msfa_data.csv')\n",
    "df['obs_se'] = .05\n",
    "df['group'] = np.arange(df.shape[0])\n",
    "df.head()"
   ]
  },
  {
   "cell_type": "markdown",
   "metadata": {},
   "source": [
    "#### Build inputs"
   ]
  },
  {
   "cell_type": "code",
   "execution_count": 2,
   "metadata": {},
   "outputs": [],
   "source": [
    "from anml.parameter.parameter import Parameter, ParameterSet\n",
    "from anml.parameter.prior import GaussianPrior, Prior\n",
    "from anml.parameter.processors import process_all\n",
    "from anml.parameter.spline_variable import Spline, SplineLinearConstr\n",
    "from anml.parameter.variables import Intercept\n",
    "from sfma.data import DataSpecs\n",
    "from sfma.data import Data"
   ]
  },
  {
   "cell_type": "code",
   "execution_count": 3,
   "metadata": {},
   "outputs": [],
   "source": [
    "data_spec = DataSpecs(col_obs='uhc', col_obs_se='obs_se')\n",
    "\n",
    "increasing = SplineLinearConstr(order=1, y_bounds=[0.0, np.inf], grid_size=20)\n",
    "concave = SplineLinearConstr(order=2, y_bounds=[-np.inf, 0.0], grid_size=20)                                                \n",
    "\n",
    "spline = Spline(\n",
    "    covariate='physicians',\n",
    "    knots_type='domain', knots_num=4, \n",
    "    degree=3, r_linear=True, include_intercept=True, \n",
    "    derivative_constr=[increasing, concave],\n",
    ")\n",
    "spline.set_fe_prior(Prior(lower_bound=[0.0] * spline.num_fe, upper_bound=[1.0] * spline.num_fe))\n",
    "param_set_marginal = ParameterSet([Parameter(param_name='beta', variables=[spline])])\n",
    "process_all(param_set_marginal, df)\n",
    "\n",
    "\n",
    "intercept = Intercept(add_re=True, col_group='group', re_prior=GaussianPrior(lower_bound=[0.0], upper_bound=[np.inf]))\n",
    "param_set_v = ParameterSet([Parameter(param_name='v', variables=[intercept])])\n",
    "process_all(param_set_v, df)\n",
    "\n",
    "data = Data(data_spec)\n",
    "data.process(df)"
   ]
  },
  {
   "cell_type": "markdown",
   "metadata": {},
   "source": [
    "#### Build Models"
   ]
  },
  {
   "cell_type": "code",
   "execution_count": 4,
   "metadata": {},
   "outputs": [],
   "source": [
    "from sfma.models.maximal import VModel, UModel\n",
    "from sfma.models.marginal import SimpleBetaEtaModel"
   ]
  },
  {
   "cell_type": "code",
   "execution_count": 5,
   "metadata": {},
   "outputs": [],
   "source": [
    "marginal_model = SimpleBetaEtaModel(param_set_marginal)\n",
    "v_model = VModel(param_set_v) "
   ]
  },
  {
   "cell_type": "markdown",
   "metadata": {},
   "source": [
    "#### Solve"
   ]
  },
  {
   "cell_type": "code",
   "execution_count": 6,
   "metadata": {},
   "outputs": [],
   "source": [
    "from anml.solvers.base import ClosedFormSolver, ScipyOpt, IPOPTSolver"
   ]
  },
  {
   "cell_type": "code",
   "execution_count": 7,
   "metadata": {},
   "outputs": [],
   "source": [
    "marginal_solver = IPOPTSolver(marginal_model)\n",
    "v_solver = ClosedFormSolver(v_model)"
   ]
  },
  {
   "cell_type": "code",
   "execution_count": 8,
   "metadata": {},
   "outputs": [],
   "source": [
    "from sfma.solver import SimpleSolver"
   ]
  },
  {
   "cell_type": "code",
   "execution_count": 9,
   "metadata": {},
   "outputs": [],
   "source": [
    "ss = SimpleSolver([marginal_solver, v_solver])"
   ]
  },
  {
   "cell_type": "code",
   "execution_count": 10,
   "metadata": {},
   "outputs": [
    {
     "name": "stderr",
     "output_type": "stream",
     "text": [
      "/Users/jizez/miniconda3/envs/meowkit/lib/python3.7/site-packages/sfma-0.0.0-py3.7.egg/sfma/models/marginal.py:32: RuntimeWarning: divide by zero encountered in log\n",
      "  return np.mean(r**2 / (2 * V) + 0.5 * np.log(V) - np.log(Phi))\n",
      "/Users/jizez/.local/lib/python3.7/site-packages/numpy-1.17.2-py3.7-macosx-10.7-x86_64.egg/numpy/core/_methods.py:161: RuntimeWarning: invalid value encountered in cdouble_scalars\n",
      "  ret = ret.dtype.type(ret / rcount)\n"
     ]
    }
   ],
   "source": [
    "x_init = np.random.randn(marginal_solver.model.x_dim)\n",
    "ss.fit(x_init, data)"
   ]
  },
  {
   "cell_type": "markdown",
   "metadata": {},
   "source": [
    "\n",
    "#### Plot"
   ]
  },
  {
   "cell_type": "code",
   "execution_count": 11,
   "metadata": {},
   "outputs": [],
   "source": [
    "import matplotlib.pyplot as plt"
   ]
  },
  {
   "cell_type": "code",
   "execution_count": 12,
   "metadata": {},
   "outputs": [
    {
     "data": {
      "text/plain": [
       "[<matplotlib.lines.Line2D at 0x1a35e46c10>]"
      ]
     },
     "execution_count": 12,
     "metadata": {},
     "output_type": "execute_result"
    },
    {
     "data": {
      "image/png": "[encoded data removed]",
      "text/plain": [
       "<Figure size 432x288 with 1 Axes>"
      ]
     },
     "metadata": {
      "needs_background": "light"
     },
     "output_type": "display_data"
    }
   ],
   "source": [
    "plt.plot(df['physicians'].to_numpy(), data.obs, '.', label='data')\n",
    "plt.plot(df['physicians'].to_numpy(), data.obs + ss.x_opt[1], '.', label='data + v')\n",
    "plt.plot(df['physicians'].to_numpy(), ss.predict(), '.r', label='x*beta')"
   ]
  },
  {
   "cell_type": "code",
   "execution_count": null,
   "metadata": {},
   "outputs": [],
   "source": []
  }
 ],
 "metadata": {
  "kernelspec": {
   "display_name": "Python 3",
   "language": "python",
   "name": "python3"
  },
  "language_info": {
   "codemirror_mode": {
    "name": "ipython",
    "version": 3
   },
   "file_extension": ".py",
   "mimetype": "text/x-python",
   "name": "python",
   "nbconvert_exporter": "python",
   "pygments_lexer": "ipython3",
   "version": "3.7.7"
  }
 },
 "nbformat": 4,
 "nbformat_minor": 4
}
