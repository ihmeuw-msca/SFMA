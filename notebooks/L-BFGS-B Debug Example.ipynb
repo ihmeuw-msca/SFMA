{
 "cells": [
  {
   "cell_type": "markdown",
   "metadata": {},
   "source": [
    "### This is an example of where Scipy default optimizer (L-BFGS-B) does not correctly estimate the inefficiency variance. Even with $\\gamma$ set to 0 and small measurement error, it estimates $\\eta = 0$."
   ]
  },
  {
   "cell_type": "markdown",
   "metadata": {},
   "source": [
    "#### January 22, 2021 (after SFMA meeting)\n",
    "Install the latest commit of `anml` from GitHub and the `logerf` branch from `SFMA`"
   ]
  },
  {
   "cell_type": "code",
   "execution_count": 1,
   "metadata": {},
   "outputs": [],
   "source": [
    "import numpy as np\n",
    "import pandas as pd\n",
    "\n",
    "import matplotlib.pyplot as plt\n",
    "from sfma.api import SFMAModel"
   ]
  },
  {
   "cell_type": "markdown",
   "metadata": {},
   "source": [
    "## Make Simulations"
   ]
  },
  {
   "cell_type": "code",
   "execution_count": 2,
   "metadata": {},
   "outputs": [],
   "source": [
    "np.random.seed(1)"
   ]
  },
  {
   "cell_type": "code",
   "execution_count": 3,
   "metadata": {},
   "outputs": [],
   "source": [
    "n = 100"
   ]
  },
  {
   "cell_type": "code",
   "execution_count": 4,
   "metadata": {},
   "outputs": [],
   "source": [
    "intercept = 1.5\n",
    "slope = 5\n",
    "\n",
    "x_domain = [0, 10]\n",
    "\n",
    "ineff = 0.4\n",
    "\n",
    "sample_size_1 = [1000, 0.7]\n",
    "sample_size_2 = [1000, 0.3]"
   ]
  },
  {
   "cell_type": "code",
   "execution_count": 5,
   "metadata": {},
   "outputs": [],
   "source": [
    "def frontier(x):\n",
    "    return np.log(intercept + slope * x)"
   ]
  },
  {
   "cell_type": "code",
   "execution_count": 6,
   "metadata": {},
   "outputs": [],
   "source": [
    "def simulate():\n",
    "    x = np.random.uniform(low=x_domain[0], high=x_domain[1], size=n)\n",
    "    sample_sizes_1 = np.random.negative_binomial(\n",
    "        n=sample_size_1[0], p=sample_size_1[1], size=int(n / 2)\n",
    "    )\n",
    "    sample_sizes_2 = np.random.negative_binomial(\n",
    "        n=sample_size_2[0], p=sample_size_2[1], size=int(n / 2)\n",
    "    )\n",
    "    sample_sizes = np.append(sample_sizes_1, sample_sizes_2)\n",
    "    \n",
    "    the_frontier = frontier(x)\n",
    "    inefficiency = np.random.exponential(ineff, size=n)\n",
    "    means = the_frontier - inefficiency\n",
    "    samples = [np.random.normal(m, scale=4, size=s) for m, s in zip(means, sample_sizes)]\n",
    "    est_means = np.array([np.mean(s) for s in samples])\n",
    "    est_sterr = np.array([np.sqrt(np.sum(sum((s - np.mean(s))**2)) / ((len(s) - 1)))/np.sqrt(len(s)) for s in samples])\n",
    "    df = pd.DataFrame({\n",
    "        'output': est_means,\n",
    "        'se': est_sterr,\n",
    "        'input': x,\n",
    "        'ones': np.ones(len(x)),\n",
    "        'frontier': the_frontier,\n",
    "        'truth': means,\n",
    "        'sample_size': sample_sizes\n",
    "    })\n",
    "    return df"
   ]
  },
  {
   "cell_type": "code",
   "execution_count": 7,
   "metadata": {},
   "outputs": [],
   "source": [
    "sim = simulate()"
   ]
  },
  {
   "cell_type": "code",
   "execution_count": 8,
   "metadata": {},
   "outputs": [],
   "source": [
    "the_frontier = sim['frontier']\n",
    "linspace = np.linspace(x_domain[0], x_domain[1])\n",
    "front = frontier(linspace)"
   ]
  },
  {
   "cell_type": "code",
   "execution_count": 9,
   "metadata": {
    "scrolled": false
   },
   "outputs": [
    {
     "data": {
      "text/plain": [
       "<ErrorbarContainer object of 3 artists>"
      ]
     },
     "execution_count": 9,
     "metadata": {},
     "output_type": "execute_result"
    },
    {
     "data": {
      "image/png": "[encoded data removed]",
      "text/plain": [
       "<Figure size 576x288 with 1 Axes>"
      ]
     },
     "metadata": {
      "needs_background": "light"
     },
     "output_type": "display_data"
    }
   ],
   "source": [
    "fig, ax = plt.subplots(1, 1, figsize=(8, 4))\n",
    "ax.plot(linspace, front, linestyle='solid')\n",
    "ax.scatter(sim.input, sim.output, color='orange')\n",
    "ax.errorbar(sim.input, sim.output, yerr=sim.se, linestyle='None')"
   ]
  },
  {
   "cell_type": "code",
   "execution_count": 10,
   "metadata": {},
   "outputs": [],
   "source": [
    "model = SFMAModel(\n",
    "    df=sim,\n",
    "    col_output='output',\n",
    "    col_se='se',\n",
    "    col_input='input'\n",
    ")\n",
    "concave = SFMAModel(\n",
    "    df=sim,\n",
    "    col_output='output',\n",
    "    col_se='se',\n",
    "    col_input='input',\n",
    "    r_linear=True,\n",
    "    concave=True\n",
    ")"
   ]
  },
  {
   "cell_type": "code",
   "execution_count": 11,
   "metadata": {},
   "outputs": [],
   "source": [
    "model.fit()\n",
    "concave.fit()"
   ]
  },
  {
   "cell_type": "code",
   "execution_count": 12,
   "metadata": {},
   "outputs": [],
   "source": [
    "sim['base_predictions'] = model.predict()\n",
    "sim['concave_predictions'] = concave.predict()\n",
    "sim.sort_values('input', inplace=True)"
   ]
  },
  {
   "cell_type": "markdown",
   "metadata": {},
   "source": [
    "## ALERT: BUG IS HERE"
   ]
  },
  {
   "cell_type": "markdown",
   "metadata": {},
   "source": [
    "#### The last entry is $\\eta$ and you can see that it's 0 for the `model` object but non-zero correct) for the `concave` object."
   ]
  },
  {
   "cell_type": "code",
   "execution_count": 13,
   "metadata": {},
   "outputs": [
    {
     "data": {
      "text/plain": [
       "array([0.82452899, 2.34577125, 2.73695273, 3.94465254, 3.73869003,\n",
       "       4.02177324, 0.        , 0.24364906])"
      ]
     },
     "execution_count": 13,
     "metadata": {},
     "output_type": "execute_result"
    }
   ],
   "source": [
    "model.solver.x_opt"
   ]
  },
  {
   "cell_type": "code",
   "execution_count": 14,
   "metadata": {},
   "outputs": [
    {
     "data": {
      "text/plain": [
       "array([0.88056897, 2.2465894 , 2.84212455, 3.55479829, 3.66220785,\n",
       "       0.        , 0.24922011])"
      ]
     },
     "execution_count": 14,
     "metadata": {},
     "output_type": "execute_result"
    }
   ],
   "source": [
    "concave.solver.x_opt"
   ]
  },
  {
   "cell_type": "code",
   "execution_count": 20,
   "metadata": {
    "scrolled": true
   },
   "outputs": [
    {
     "data": {
      "image/png": "[encoded data removed]",
      "text/plain": [
       "<Figure size 576x288 with 1 Axes>"
      ]
     },
     "metadata": {
      "needs_background": "light"
     },
     "output_type": "display_data"
    }
   ],
   "source": [
    "fig, axes = plt.subplots(1, 1, figsize=(8, 4))\n",
    "axes.plot(linspace, front, linestyle='dashed', color='black')\n",
    "axes.scatter(sim.input, sim.output, color='grey', alpha=0.4, label=\"data\")\n",
    "axes.scatter(sim.input, sim.output + concave.inefficiencies, color='#008080', alpha=0.4, \"data + inef\")\n",
    "axes.errorbar(sim.input, sim.output, yerr=sim.se, linestyle='None', color='grey', alpha=0.4)\n",
    "axes.plot(sim.input, sim.base_predictions, color='red', label='basic (L-BFGS-B)')\n",
    "axes.plot(sim.input, sim.concave_predictions, color='green', label='concave (trust-constr)')\n",
    "axes.legend()\n",
    "plt.savefig(\"\")"
   ]
  },
  {
   "cell_type": "code",
   "execution_count": null,
   "metadata": {},
   "outputs": [],
   "source": []
  }
 ],
 "metadata": {
  "kernelspec": {
   "display_name": "Python 3",
   "language": "python",
   "name": "python3"
  },
  "language_info": {
   "codemirror_mode": {
    "name": "ipython",
    "version": 3
   },
   "file_extension": ".py",
   "mimetype": "text/x-python",
   "name": "python",
   "nbconvert_exporter": "python",
   "pygments_lexer": "ipython3",
   "version": "3.8.2"
  }
 },
 "nbformat": 4,
 "nbformat_minor": 4
}
