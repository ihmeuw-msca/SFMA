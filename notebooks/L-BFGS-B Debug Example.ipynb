{
 "cells": [
  {
   "cell_type": "markdown",
   "metadata": {},
   "source": [
    "### This is an example of where Scipy default optimizer (L-BFGS-B) does not correctly estimate the inefficiency variance. Even with $\\gamma$ set to 0 and small measurement error, it estimates $\\eta = 0$."
   ]
  },
  {
   "cell_type": "markdown",
   "metadata": {},
   "source": [
    "#### January 22, 2021 (after SFMA meeting)\n",
    "Install the latest commit of `anml` from GitHub and the `logerf` branch from `SFMA`"
   ]
  },
  {
   "cell_type": "code",
   "execution_count": 36,
   "metadata": {},
   "outputs": [],
   "source": [
    "import numpy as np\n",
    "import pandas as pd\n",
    "\n",
    "import matplotlib.pyplot as plt\n",
    "from sfma.api import SFMAModel"
   ]
  },
  {
   "cell_type": "markdown",
   "metadata": {},
   "source": [
    "## Make Simulations"
   ]
  },
  {
   "cell_type": "code",
   "execution_count": 37,
   "metadata": {},
   "outputs": [],
   "source": [
    "np.random.seed(1)"
   ]
  },
  {
   "cell_type": "code",
   "execution_count": 38,
   "metadata": {},
   "outputs": [],
   "source": [
    "n = 100"
   ]
  },
  {
   "cell_type": "code",
   "execution_count": 39,
   "metadata": {},
   "outputs": [],
   "source": [
    "intercept = 1.5\n",
    "slope = 5\n",
    "\n",
    "x_domain = [0, 10]\n",
    "\n",
    "ineff = 0.4\n",
    "\n",
    "sample_size_1 = [1000, 0.7]\n",
    "sample_size_2 = [1000, 0.3]"
   ]
  },
  {
   "cell_type": "code",
   "execution_count": 40,
   "metadata": {},
   "outputs": [],
   "source": [
    "def frontier(x):\n",
    "    return np.log(intercept + slope * x)"
   ]
  },
  {
   "cell_type": "code",
   "execution_count": 61,
   "metadata": {},
   "outputs": [],
   "source": [
    "def simulate():\n",
    "    x = np.random.uniform(low=x_domain[0], high=x_domain[1], size=n)\n",
    "    sample_sizes_1 = np.random.negative_binomial(\n",
    "        n=sample_size_1[0], p=sample_size_1[1], size=int(n / 2)\n",
    "    )\n",
    "    sample_sizes_2 = np.random.negative_binomial(\n",
    "        n=sample_size_2[0], p=sample_size_2[1], size=int(n / 2)\n",
    "    )\n",
    "    sample_sizes = np.append(sample_sizes_1, sample_sizes_2)\n",
    "    \n",
    "    the_frontier = frontier(x)\n",
    "    inefficiency = np.random.exponential(ineff, size=n)\n",
    "    means = the_frontier - inefficiency\n",
    "    samples = [np.random.normal(m, scale=4, size=s) for m, s in zip(means, sample_sizes)]\n",
    "    est_means = np.array([np.mean(s) for s in samples])\n",
    "    est_sterr = np.array([np.sqrt(np.sum(sum((s - np.mean(s))**2)) / ((len(s) - 1)))/np.sqrt(len(s)) for s in samples])\n",
    "    df = pd.DataFrame({\n",
    "        'output': est_means,\n",
    "        'se': est_sterr,\n",
    "        'input': x,\n",
    "        'ones': np.ones(len(x)),\n",
    "        'frontier': the_frontier,\n",
    "        'truth': means,\n",
    "        'sample_size': sample_sizes\n",
    "    })\n",
    "    return df"
   ]
  },
  {
   "cell_type": "code",
   "execution_count": 62,
   "metadata": {},
   "outputs": [],
   "source": [
    "sim = simulate()"
   ]
  },
  {
   "cell_type": "code",
   "execution_count": 63,
   "metadata": {},
   "outputs": [],
   "source": [
    "the_frontier = sim['frontier']\n",
    "linspace = np.linspace(x_domain[0], x_domain[1])\n",
    "front = frontier(linspace)"
   ]
  },
  {
   "cell_type": "code",
   "execution_count": 64,
   "metadata": {
    "scrolled": false
   },
   "outputs": [
    {
     "data": {
      "text/plain": [
       "<ErrorbarContainer object of 3 artists>"
      ]
     },
     "execution_count": 64,
     "metadata": {},
     "output_type": "execute_result"
    },
    {
     "data": {
      "image/png": "[encoded data removed]",
      "text/plain": [
       "<Figure size 576x288 with 1 Axes>"
      ]
     },
     "metadata": {
      "needs_background": "light"
     },
     "output_type": "display_data"
    }
   ],
   "source": [
    "fig, ax = plt.subplots(1, 1, figsize=(8, 4))\n",
    "ax.plot(linspace, front, linestyle='solid')\n",
    "ax.scatter(sim.input, sim.output, color='orange')\n",
    "ax.errorbar(sim.input, sim.output, yerr=sim.se, linestyle='None')"
   ]
  },
  {
   "cell_type": "code",
   "execution_count": 65,
   "metadata": {},
   "outputs": [],
   "source": [
    "model = SFMAModel(\n",
    "    df=sim,\n",
    "    col_output='output',\n",
    "    col_se='se',\n",
    "    col_input='input'\n",
    ")\n",
    "concave = SFMAModel(\n",
    "    df=sim,\n",
    "    col_output='output',\n",
    "    col_se='se',\n",
    "    col_input='input',\n",
    "    r_linear=True,\n",
    "    concave=True\n",
    ")"
   ]
  },
  {
   "cell_type": "code",
   "execution_count": 66,
   "metadata": {},
   "outputs": [
    {
     "name": "stderr",
     "output_type": "stream",
     "text": [
      "/Users/marlena/repos/SFMA/src/sfma/models/maximal.py:91: RuntimeWarning: divide by zero encountered in true_divide\n",
      "  np.dot(self.Z.T / sigma2, self.Z) + np.diag(1.0/self.gammas_padded),\n",
      "/Users/marlena/repos/SFMA/src/sfma/models/maximal.py:83: RuntimeWarning: invalid value encountered in true_divide\n",
      "  self._prior_fun = lambda x: np.sum(x**2/self.gammas_padded) / 2\n"
     ]
    }
   ],
   "source": [
    "model.fit()\n",
    "concave.fit()"
   ]
  },
  {
   "cell_type": "code",
   "execution_count": 67,
   "metadata": {},
   "outputs": [],
   "source": [
    "sim['base_predictions'] = model.predict()\n",
    "sim['concave_predictions'] = concave.predict()\n",
    "sim.sort_values('input', inplace=True)"
   ]
  },
  {
   "cell_type": "markdown",
   "metadata": {},
   "source": [
    "## ALERT: BUG IS HERE"
   ]
  },
  {
   "cell_type": "markdown",
   "metadata": {},
   "source": [
    "#### The last entry is $\\eta$ and you can see that it's 0 for the `model` object but non-zero correct) for the `concave` object."
   ]
  },
  {
   "cell_type": "code",
   "execution_count": 68,
   "metadata": {},
   "outputs": [
    {
     "data": {
      "text/plain": [
       "array([0.64635245, 1.9827222 , 2.25746084, 3.61235569, 2.91106497,\n",
       "       3.76080578, 0.        ])"
      ]
     },
     "execution_count": 68,
     "metadata": {},
     "output_type": "execute_result"
    }
   ],
   "source": [
    "model.solver.solvers[0].x_opt"
   ]
  },
  {
   "cell_type": "code",
   "execution_count": 69,
   "metadata": {},
   "outputs": [
    {
     "data": {
      "text/plain": [
       "array([1.10277094, 2.43351323, 3.2385709 , 3.4909635 , 3.63340503,\n",
       "       0.69099723])"
      ]
     },
     "execution_count": 69,
     "metadata": {},
     "output_type": "execute_result"
    }
   ],
   "source": [
    "concave.solver.solvers[0].x_opt"
   ]
  },
  {
   "cell_type": "code",
   "execution_count": 73,
   "metadata": {
    "scrolled": true
   },
   "outputs": [
    {
     "data": {
      "text/plain": [
       "<matplotlib.legend.Legend at 0x7f9a1a154fd0>"
      ]
     },
     "execution_count": 73,
     "metadata": {},
     "output_type": "execute_result"
    },
    {
     "data": {
      "image/png": "[encoded data removed]",
      "text/plain": [
       "<Figure size 576x288 with 1 Axes>"
      ]
     },
     "metadata": {
      "needs_background": "light"
     },
     "output_type": "display_data"
    }
   ],
   "source": [
    "fig, axes = plt.subplots(1, 1, figsize=(8, 4))\n",
    "axes.plot(linspace, front, linestyle='dashed', color='black')\n",
    "axes.scatter(sim.input, sim.output, color='grey', alpha=0.4)\n",
    "axes.errorbar(sim.input, sim.output, yerr=sim.se, linestyle='None', color='grey', alpha=0.4)\n",
    "axes.plot(sim.input, sim.base_predictions, color='red', label='basic (L-BFGS-B)')\n",
    "axes.plot(sim.input, sim.concave_predictions, color='green', label='concave (trust-constr)')\n",
    "axes.legend()"
   ]
  },
  {
   "cell_type": "code",
   "execution_count": null,
   "metadata": {},
   "outputs": [],
   "source": []
  }
 ],
 "metadata": {
  "kernelspec": {
   "display_name": "Python 3",
   "language": "python",
   "name": "python3"
  },
  "language_info": {
   "codemirror_mode": {
    "name": "ipython",
    "version": 3
   },
   "file_extension": ".py",
   "mimetype": "text/x-python",
   "name": "python",
   "nbconvert_exporter": "python",
   "pygments_lexer": "ipython3",
   "version": "3.8.5"
  }
 },
 "nbformat": 4,
 "nbformat_minor": 4
}
